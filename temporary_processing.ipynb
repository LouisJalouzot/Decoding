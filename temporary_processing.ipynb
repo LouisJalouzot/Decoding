{
 "cells": [
  {
   "cell_type": "code",
   "execution_count": null,
   "metadata": {
    "notebookRunGroups": {
     "groupValue": "1"
    }
   },
   "outputs": [],
   "source": [
    "from bids import BIDSLayout\n",
    "from tqdm.auto import tqdm\n",
    "from tqdm.contrib.concurrent import process_map\n",
    "from pathlib import Path\n",
    "import nibabel as nib\n",
    "import numpy as np\n",
    "from src.metrics import corr\n",
    "from nilearn.glm import fdr_threshold\n",
    "from scipy.stats import ttest_1samp, norm\n",
    "import pandas as pd\n",
    "import plotly.express as px"
   ]
  },
  {
   "cell_type": "markdown",
   "metadata": {},
   "source": [
    "# Build mean EN"
   ]
  },
  {
   "cell_type": "code",
   "execution_count": null,
   "metadata": {},
   "outputs": [],
   "source": [
    "lang = \"EN\"\n",
    "n_runs = 9"
   ]
  },
  {
   "cell_type": "code",
   "execution_count": null,
   "metadata": {},
   "outputs": [],
   "source": [
    "def average(run):\n",
    "    layout = BIDSLayout(\"data/li/derivatives\", validate=False, is_derivative=True)\n",
    "    subjects = [s for s in layout.get_subjects() if s.startswith(lang)]\n",
    "    a = None\n",
    "    affine = None\n",
    "    for subject in tqdm(subjects, desc=f\"Run {run}\", leave=False):\n",
    "        imgs = sorted([f.path for f in layout.get(subject=subject)])\n",
    "        assert len(imgs) == n_runs\n",
    "        img = nib.load(imgs[run])\n",
    "        if a is None:\n",
    "            a = img.get_fdata()\n",
    "            affine = img.affine\n",
    "        else:\n",
    "            a += img.get_fdata()\n",
    "        img = layout.get(subject=subject)[0]\n",
    "        new_path = img.path.replace(\"sub-\"+subject, \"mean\"+lang)\n",
    "        new_path = new_path.replace(f\"run-{img.entities[\"run\"]}\", f\"run-{run+1:02d}\")\n",
    "    a /= len(subjects)\n",
    "    Path(new_path).parent.mkdir(parents=True, exist_ok=True)\n",
    "    nib.Nifti1Image(a, affine).to_filename(new_path)\n",
    "    print(new_path)"
   ]
  },
  {
   "cell_type": "code",
   "execution_count": null,
   "metadata": {},
   "outputs": [],
   "source": [
    "for run in tqdm(range(n_runs)):\n",
    "    average(run)"
   ]
  },
  {
   "cell_type": "markdown",
   "metadata": {},
   "source": [
    "# ISC"
   ]
  },
  {
   "cell_type": "code",
   "execution_count": null,
   "metadata": {},
   "outputs": [],
   "source": [
    "lang = \"EN\""
   ]
  },
  {
   "cell_type": "code",
   "execution_count": null,
   "metadata": {},
   "outputs": [],
   "source": [
    "layout = BIDSLayout(\"data/li2022/derivatives\", validate=False, is_derivative=True)\n",
    "subjects = layout.get_subjects()\n",
    "subjects = [s for s in subjects if s.startswith(lang)]\n",
    "n_subjects = len(subjects)"
   ]
  },
  {
   "cell_type": "code",
   "execution_count": null,
   "metadata": {},
   "outputs": [],
   "source": [
    "def read(path):\n",
    "    return path, nib.load(path).slicer[40:50, 40:55, 35:65].get_fdata()"
   ]
  },
  {
   "cell_type": "code",
   "execution_count": null,
   "metadata": {},
   "outputs": [],
   "source": [
    "mean_imgs = sorted([f.path for f in layout.get(subject=\"meanEN\")])\n",
    "mean_imgs = sorted(process_map(read, mean_imgs[:3]))\n",
    "mean_imgs = np.concatenate([m[1] for m in mean_imgs], axis=-1) * n_subjects"
   ]
  },
  {
   "cell_type": "code",
   "execution_count": null,
   "metadata": {},
   "outputs": [],
   "source": [
    "corrs = []\n",
    "for subject in tqdm(subjects):\n",
    "    subject_imgs = sorted([f.path for f in layout.get(subject=subject)])\n",
    "    subject_imgs = sorted(process_map(read, subject_imgs[:3], leave=False))\n",
    "    subject_imgs = np.concatenate([m[1] for m in subject_imgs], axis=-1)\n",
    "    c = corr(mean_imgs - subject_imgs, subject_imgs, axis=-1)\n",
    "    corrs.append(c)\n",
    "corrs = np.stack(corrs)"
   ]
  },
  {
   "cell_type": "code",
   "execution_count": null,
   "metadata": {},
   "outputs": [],
   "source": [
    "pvalues = np.nan_to_num(ttest_1samp(np.arctanh(corrs), popmean=0, axis=0).pvalue, nan=1)\n",
    "zscores = norm.ppf(1 - pvalues)\n",
    "thresh = fdr_threshold(zscores.reshape(-1), 5e-2)\n",
    "signif = np.where(zscores > thresh)"
   ]
  },
  {
   "cell_type": "code",
   "execution_count": null,
   "metadata": {},
   "outputs": [],
   "source": [
    "df = pd.DataFrame(signif, index=[\"x\", \"y\", \"z\"]).T\n",
    "df[\"zscore\"] = zscores[signif]"
   ]
  },
  {
   "cell_type": "code",
   "execution_count": null,
   "metadata": {},
   "outputs": [],
   "source": [
    "import os\n",
    "os.makedirs(\"figs\", exist_ok=True)\n",
    "px.scatter_3d(df, x=\"x\", y=\"y\", z=\"z\", color=\"zscore\", color_continuous_midpoint=0, opacity=.85).write_html(\"figs/li2022_ics.html\")"
   ]
  },
  {
   "cell_type": "code",
   "execution_count": null,
   "metadata": {},
   "outputs": [],
   "source": [
    "from nilearn import plotting"
   ]
  },
  {
   "cell_type": "code",
   "execution_count": null,
   "metadata": {},
   "outputs": [],
   "source": [
    "import matplotlib.pyplot as plt\n",
    "import matplotlib as mpl"
   ]
  },
  {
   "cell_type": "code",
   "execution_count": null,
   "metadata": {},
   "outputs": [],
   "source": [
    "cmap = mpl.cm.jet\n",
    "max_zscore = df.zscore.abs().max()\n",
    "norm = mpl.colors.Normalize(vmin=-max_zscore, vmax=max_zscore)\n",
    "cbar = mpl.cm.ScalarMappable(norm=norm, cmap=cmap)\n",
    "colors = cmap(norm(df.zscore))"
   ]
  },
  {
   "cell_type": "code",
   "execution_count": null,
   "metadata": {},
   "outputs": [],
   "source": [
    "colors"
   ]
  },
  {
   "cell_type": "code",
   "execution_count": null,
   "metadata": {},
   "outputs": [],
   "source": [
    "plotting.view_connectome(adjacency_matrix=np.diag(df.zscore), node_coords=df[[\"x\", \"y\", \"z\"]], node_color=colors, edge_cmap=cmap) #node_color=cmap(norm(df.zscore)))\n",
    "#.save_as_html(\"figs/li2022_ics.html\")"
   ]
  }
 ],
 "metadata": {
  "kernelspec": {
   "display_name": ".env",
   "language": "python",
   "name": "python3"
  },
  "language_info": {
   "codemirror_mode": {
    "name": "ipython",
    "version": 3
   },
   "file_extension": ".py",
   "mimetype": "text/x-python",
   "name": "python",
   "nbconvert_exporter": "python",
   "pygments_lexer": "ipython3",
   "version": "3.12.4"
  }
 },
 "nbformat": 4,
 "nbformat_minor": 2
}
