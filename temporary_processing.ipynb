{
 "cells": [
  {
   "cell_type": "code",
   "execution_count": null,
   "metadata": {
    "notebookRunGroups": {
     "groupValue": "1"
    }
   },
   "outputs": [],
   "source": [
    "from bids import BIDSLayout\n",
    "from tqdm.auto import tqdm\n",
    "from tqdm.contrib.concurrent import process_map\n",
    "from pathlib import Path\n",
    "import nibabel as nib\n",
    "import numpy as np\n",
    "from src.metrics import corr\n",
    "from sklearn.preprocessing import StandardScaler\n",
    "from nilearn.glm import fdr_threshold\n",
    "from scipy.stats import ttest_1samp, norm\n",
    "import pandas as pd\n",
    "import matplotlib as mpl\n",
    "from nilearn import plotting, image\n",
    "import os, h5py\n",
    "from joblib import Parallel, delayed\n",
    "import re\n",
    "os.makedirs(\"figs\", exist_ok=True)\n",
    "lang = \"EN\"\n",
    "n_runs = 9\n",
    "layout = BIDSLayout(\"data/li2022/derivatives\", validate=False, is_derivative=True)\n",
    "subjects = layout.get_subjects()\n",
    "subjects = [s for s in subjects if re.match(lang+r\"\\d+$\", s)]\n",
    "n_subjects = len(subjects)"
   ]
  },
  {
   "cell_type": "markdown",
   "metadata": {},
   "source": [
    "# Build mean EN"
   ]
  },
  {
   "cell_type": "code",
   "execution_count": null,
   "metadata": {},
   "outputs": [],
   "source": [
    "def average(run):\n",
    "    layout = BIDSLayout(\"data/li2022/derivatives\", validate=False, is_derivative=True)\n",
    "    subjects = [s for s in layout.get_subjects() if s.startswith(lang)]\n",
    "    a = None\n",
    "    affine = None\n",
    "    for subject in tqdm(subjects, desc=f\"Run {run}\", leave=False):\n",
    "        imgs = sorted([f.path for f in layout.get(subject=subject)])\n",
    "        assert len(imgs) == n_runs\n",
    "        img = nib.load(imgs[run])\n",
    "        if a is None:\n",
    "            a = img.get_fdata()\n",
    "            affine = img.affine\n",
    "        else:\n",
    "            a += img.get_fdata()\n",
    "        img = layout.get(subject=subject)[0]\n",
    "        new_path = img.path.replace(\"sub-\"+subject, \"sub-mean\"+lang)\n",
    "        new_path = new_path.replace(f\"run-{img.entities['run']}\", f\"run-{run+1:02d}\")\n",
    "    a /= len(subjects)\n",
    "    Path(new_path).parent.mkdir(parents=True, exist_ok=True)\n",
    "    nib.Nifti1Image(a, affine).to_filename(new_path)\n",
    "    print(new_path)"
   ]
  },
  {
   "cell_type": "code",
   "execution_count": null,
   "metadata": {},
   "outputs": [],
   "source": [
    "for run in tqdm(range(n_runs)):\n",
    "    average(run)"
   ]
  },
  {
   "cell_type": "markdown",
   "metadata": {},
   "source": [
    "# Keep only brain"
   ]
  },
  {
   "cell_type": "code",
   "execution_count": null,
   "metadata": {},
   "outputs": [],
   "source": [
    "mask = nib.load(\"data/li2022/colin27_t1_tal_lin_mask.nii\")\n",
    "mask = image.resample_to_img(mask, nib.load(layout.get()[0]), interpolation=\"nearest\").get_fdata().astype(bool)\n",
    "mask = np.where(mask)"
   ]
  },
  {
   "cell_type": "code",
   "execution_count": null,
   "metadata": {},
   "outputs": [],
   "source": [
    "def slice_brain(subject, path):\n",
    "    new_path = path.replace(\"sub-\" + subject, \"sub-\" + subject + \"brain\")\n",
    "    new_path = Path(new_path.replace(\".nii.gz\", \".hf5\"))\n",
    "    if new_path.exists():\n",
    "        return\n",
    "    new_path.parent.mkdir(parents=True, exist_ok=True)\n",
    "    with h5py.File(new_path, \"w\") as f:\n",
    "        f.create_dataset(\"data\", data=nib.load(path).get_fdata()[mask].T, compression=\"gzip\")"
   ]
  },
  {
   "cell_type": "code",
   "execution_count": null,
   "metadata": {},
   "outputs": [],
   "source": [
    "_ = Parallel(n_jobs=-2, verbose=10)(delayed(slice_brain)(subject, img.path) for subject in subjects for img in layout.get(subject=subject))"
   ]
  },
  {
   "cell_type": "markdown",
   "metadata": {},
   "source": [
    "# ISC"
   ]
  },
  {
   "cell_type": "code",
   "execution_count": null,
   "metadata": {},
   "outputs": [],
   "source": [
    "def read(path):\n",
    "    return path, nib.load(path).get_fdata()"
   ]
  },
  {
   "cell_type": "code",
   "execution_count": null,
   "metadata": {},
   "outputs": [],
   "source": [
    "mean_imgs = sorted([f.path for f in layout.get(subject=\"meanEN\")])\n",
    "mean_imgs = sorted(process_map(read, mean_imgs[:3]))\n",
    "mean_imgs = np.concatenate([m[1] for m in mean_imgs], axis=-1) * n_subjects"
   ]
  },
  {
   "cell_type": "code",
   "execution_count": null,
   "metadata": {},
   "outputs": [],
   "source": [
    "corrs = []\n",
    "for subject in tqdm(subjects):\n",
    "    subject_imgs = sorted([f.path for f in layout.get(subject=subject)])\n",
    "    subject_imgs = sorted(process_map(read, subject_imgs[:3], leave=False))\n",
    "    subject_imgs = np.concatenate([m[1] for m in subject_imgs], axis=-1)\n",
    "    c = corr(mean_imgs - subject_imgs, subject_imgs, axis=-1)\n",
    "    corrs.append(c)\n",
    "corrs = np.stack(corrs)"
   ]
  },
  {
   "cell_type": "code",
   "execution_count": null,
   "metadata": {},
   "outputs": [],
   "source": [
    "pvalues = np.nan_to_num(ttest_1samp(np.arctanh(corrs), popmean=0, axis=0).pvalue, nan=1)\n",
    "zscores = norm.ppf(1 - pvalues)\n",
    "thresh = fdr_threshold(zscores.reshape(-1), 5e-2)\n",
    "signif = np.where(zscores > thresh)"
   ]
  },
  {
   "cell_type": "code",
   "execution_count": null,
   "metadata": {},
   "outputs": [],
   "source": [
    "affine = nib.load(layout.get()[0]).affine\n",
    "df = pd.DataFrame(image.coord_transform(*signif, affine), index=[\"x\", \"y\", \"z\"]).T\n",
    "df[\"zscore\"] = zscores[signif]\n",
    "df.to_csv(f\"data/li2022/ISC_voxels_{lang}.csv\", index=False)\n",
    "np.save(f\"data/li2022/ISC_voxels_{lang}.npy\", {\"pval\": pvalues, \"zscore\": zscores, \"thresh\": thresh, \"signif\": signif})"
   ]
  },
  {
   "cell_type": "code",
   "execution_count": null,
   "metadata": {},
   "outputs": [],
   "source": [
    "isc = np.load(\"data/li2022/ISC_voxels_EN.npy\", allow_pickle=True).item()\n",
    "zscores = isc[\"zscore\"]\n",
    "signif = isc[\"signif\"]\n",
    "thresh = isc[\"thresh\"]\n",
    "df = pd.read_csv(f\"data/li2022/ISC_voxels_{lang}.csv\")"
   ]
  },
  {
   "cell_type": "code",
   "execution_count": null,
   "metadata": {},
   "outputs": [],
   "source": [
    "with tqdm(total=(n_subjects + 1) * n_runs) as pbar:\n",
    "    for subject in subjects + [f\"mean{lang}\"]:\n",
    "        imgs = sorted([f.path for f in layout.get(subject=subject)])\n",
    "        assert len(imgs) == n_runs\n",
    "        for img_file in imgs:\n",
    "            new_img_file = img_file.replace(\"sub-\"+subject, \"sub-\"+subject+\"ISC\")\n",
    "            new_img_file = Path(new_img_file.replace(\".nii.gz\", \".hf5\"))\n",
    "            if new_img_file.exists():\n",
    "                pbar.update(1)\n",
    "                continue\n",
    "            new_img_file.parent.mkdir(parents=True, exist_ok=True)\n",
    "            img = nib.load(img_file).get_fdata()[signif].T\n",
    "            with h5py.File(new_img_file, \"w\") as f:\n",
    "                f.create_dataset(\"data\", data=img, compression=\"gzip\")\n",
    "            pbar.update(1)"
   ]
  },
  {
   "cell_type": "code",
   "execution_count": null,
   "metadata": {},
   "outputs": [],
   "source": [
    "cmap = mpl.cm.jet\n",
    "df_display = df.sample(len(df) // 10)\n",
    "max_zscore = df_display.zscore.max()\n",
    "norm = mpl.colors.Normalize(vmin=0, vmax=max_zscore)\n",
    "cbar = mpl.cm.ScalarMappable(norm=norm, cmap=cmap)\n",
    "colors = cmap(norm(df_display.zscore))\n",
    "sizes = df_display.zscore ** 2\n",
    "sizes = 10 * sizes / sizes.max()"
   ]
  },
  {
   "cell_type": "code",
   "execution_count": null,
   "metadata": {},
   "outputs": [],
   "source": [
    "plotting.view_connectome(adjacency_matrix=np.diag(df_display.zscore), node_coords=df_display[[\"x\", \"y\", \"z\"]], node_color=colors, edge_cmap=cmap, node_size=sizes, symmetric_cmap=False, title=f\"Correlation zscore from ISC on the {n_subjects} {lang} subjects, zscore FDR thresh {thresh:.3g}, 10% of the {len(df)} selected voxels are displayed\").save_as_html(\"figs/li2022_isc.html\")"
   ]
  },
  {
   "cell_type": "markdown",
   "metadata": {},
   "source": [
    "# SRM"
   ]
  },
  {
   "cell_type": "code",
   "execution_count": null,
   "metadata": {},
   "outputs": [],
   "source": [
    "def read(subject, run, path):\n",
    "    img = nib.load(path).get_fdata()\n",
    "    img = img.reshape(-1, img.shape[-1])\n",
    "    img = StandardScaler(copy=False).fit_transform(img.T).T\n",
    "    return subject, run, img"
   ]
  },
  {
   "cell_type": "code",
   "execution_count": null,
   "metadata": {},
   "outputs": [],
   "source": [
    "res = Parallel(n_jobs=-2, verbose=2)(delayed(read)(subject, run, path) for subject in subjects[:2] for run, path in enumerate(layout.get(subject=subject)[:2]))\n",
    "res = {(subject, run): img for subject, run, img in res}"
   ]
  },
  {
   "cell_type": "code",
   "execution_count": null,
   "metadata": {},
   "outputs": [],
   "source": [
    "imgs = [[res[(subject, run)] for run in range(2)] for subject in subjects[:2]]"
   ]
  },
  {
   "cell_type": "code",
   "execution_count": null,
   "metadata": {},
   "outputs": [],
   "source": [
    "from fastsrm.identifiable_srm import IdentifiableFastSRM"
   ]
  },
  {
   "cell_type": "code",
   "execution_count": null,
   "metadata": {},
   "outputs": [],
   "source": [
    "srm = IdentifiableFastSRM(n_components=10)"
   ]
  },
  {
   "cell_type": "code",
   "execution_count": null,
   "metadata": {},
   "outputs": [],
   "source": [
    "X = srm.fit_transform(imgs)"
   ]
  },
  {
   "cell_type": "code",
   "execution_count": null,
   "metadata": {},
   "outputs": [],
   "source": [
    "W = srm.basis_list[0]"
   ]
  }
 ],
 "metadata": {
  "kernelspec": {
   "display_name": ".env",
   "language": "python",
   "name": "python3"
  },
  "language_info": {
   "codemirror_mode": {
    "name": "ipython",
    "version": 3
   },
   "file_extension": ".py",
   "mimetype": "text/x-python",
   "name": "python",
   "nbconvert_exporter": "python",
   "pygments_lexer": "ipython3",
   "version": "3.11.9"
  }
 },
 "nbformat": 4,
 "nbformat_minor": 2
}
